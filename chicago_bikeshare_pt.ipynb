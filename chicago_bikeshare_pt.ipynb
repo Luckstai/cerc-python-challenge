{
 "cells": [
  {
   "cell_type": "markdown",
   "metadata": {},
   "source": [
    "# Cerc Python Challenge 2.0"
   ]
  },
  {
   "cell_type": "markdown",
   "metadata": {},
   "source": [
    ">Acesse o link abaixo e realize o download do desafio em Python.\n",
    ">\n",
    ">[Download Desafio Python](https://drive.google.com/drive/folders/12HlEIGiJLb7HtqajuHmJSlNyE7dTHawN)\n",
    ">* Siga todos os passos solicitados no Python **chicago_bikeshare_pt.py**.\n",
    ">* O código é bem explicativo e com detalhes em cada trecho do código.\n",
    ">* Não mude os asserts do código, você pode comentar os mesmos se necessário.\n",
    ">* Ao final, você deve publicar o resultado no seu GitHub com o máximo de detalhes documentado.\n",
    ">* Se necessário, de acordo com as libs utilizadas, informe os passos para reproduzir o seu código final.\n",
    "> "
   ]
  },
  {
   "cell_type": "code",
   "execution_count": 5,
   "metadata": {},
   "outputs": [],
   "source": [
    "import pandas as pd\n",
    "import matplotlib.pyplot as plt\n",
    "\n",
    "df = pd.read_csv('chicago.csv')"
   ]
  },
  {
   "cell_type": "markdown",
   "metadata": {},
   "source": [
    "# Tarefa 1\n",
    "### Imprima as primeiras 20 linhas usando um loop para identificar os dados."
   ]
  },
  {
   "cell_type": "code",
   "execution_count": 6,
   "metadata": {},
   "outputs": [
    {
     "data": {
      "text/html": [
       "<div>\n",
       "<style scoped>\n",
       "    .dataframe tbody tr th:only-of-type {\n",
       "        vertical-align: middle;\n",
       "    }\n",
       "\n",
       "    .dataframe tbody tr th {\n",
       "        vertical-align: top;\n",
       "    }\n",
       "\n",
       "    .dataframe thead th {\n",
       "        text-align: right;\n",
       "    }\n",
       "</style>\n",
       "<table border=\"1\" class=\"dataframe\">\n",
       "  <thead>\n",
       "    <tr style=\"text-align: right;\">\n",
       "      <th></th>\n",
       "      <th>Start Time</th>\n",
       "      <th>End Time</th>\n",
       "      <th>Trip Duration</th>\n",
       "      <th>Start Station</th>\n",
       "      <th>End Station</th>\n",
       "      <th>User Type</th>\n",
       "      <th>Gender</th>\n",
       "      <th>Birth Year;;;;;;;</th>\n",
       "    </tr>\n",
       "  </thead>\n",
       "  <tbody>\n",
       "    <tr>\n",
       "      <th>0</th>\n",
       "      <td>2017-01-01 00:00:36</td>\n",
       "      <td>2017-01-01 00:06:32</td>\n",
       "      <td>356</td>\n",
       "      <td>Canal St &amp; Taylor St</td>\n",
       "      <td>Canal St &amp; Monroe St (*)</td>\n",
       "      <td>Customer</td>\n",
       "      <td>NaN</td>\n",
       "      <td>;;;;;;;</td>\n",
       "    </tr>\n",
       "    <tr>\n",
       "      <th>1</th>\n",
       "      <td>2017-01-01 00:02:54</td>\n",
       "      <td>2017-01-01 00:08:21</td>\n",
       "      <td>327</td>\n",
       "      <td>Larrabee St &amp; Menomonee St</td>\n",
       "      <td>Sheffield Ave &amp; Kingsbury St</td>\n",
       "      <td>Subscriber</td>\n",
       "      <td>Male</td>\n",
       "      <td>1984.0;;;;;;;</td>\n",
       "    </tr>\n",
       "    <tr>\n",
       "      <th>2</th>\n",
       "      <td>2017-01-01 00:06:06</td>\n",
       "      <td>2017-01-01 00:18:31</td>\n",
       "      <td>745</td>\n",
       "      <td>Orleans St &amp; Chestnut St (NEXT Apts)</td>\n",
       "      <td>Ashland Ave &amp; Blackhawk St</td>\n",
       "      <td>Subscriber</td>\n",
       "      <td>Male</td>\n",
       "      <td>1985.0;;;;;;;</td>\n",
       "    </tr>\n",
       "    <tr>\n",
       "      <th>3</th>\n",
       "      <td>2017-01-01 00:07:28</td>\n",
       "      <td>2017-01-01 00:12:51</td>\n",
       "      <td>323</td>\n",
       "      <td>Franklin St &amp; Monroe St</td>\n",
       "      <td>Clinton St &amp; Tilden St</td>\n",
       "      <td>Subscriber</td>\n",
       "      <td>Male</td>\n",
       "      <td>1990.0;;;;;;;</td>\n",
       "    </tr>\n",
       "    <tr>\n",
       "      <th>4</th>\n",
       "      <td>2017-01-01 00:07:57</td>\n",
       "      <td>2017-01-01 00:20:53</td>\n",
       "      <td>776</td>\n",
       "      <td>Broadway &amp; Barry Ave</td>\n",
       "      <td>Sedgwick St &amp; North Ave</td>\n",
       "      <td>Subscriber</td>\n",
       "      <td>Male</td>\n",
       "      <td>1990.0;;;;;;;</td>\n",
       "    </tr>\n",
       "    <tr>\n",
       "      <th>5</th>\n",
       "      <td>2017-01-01 00:10:44</td>\n",
       "      <td>2017-01-01 00:21:27</td>\n",
       "      <td>643</td>\n",
       "      <td>State St &amp; Kinzie St</td>\n",
       "      <td>Wells St &amp; Polk St</td>\n",
       "      <td>Subscriber</td>\n",
       "      <td>Male</td>\n",
       "      <td>1970.0;;;;;;;</td>\n",
       "    </tr>\n",
       "    <tr>\n",
       "      <th>6</th>\n",
       "      <td>2017-01-01 00:11:34</td>\n",
       "      <td>2017-01-01 00:23:47</td>\n",
       "      <td>733</td>\n",
       "      <td>Wabash Ave &amp; Wacker Pl</td>\n",
       "      <td>Clinton St &amp; Tilden St</td>\n",
       "      <td>Subscriber</td>\n",
       "      <td>Male</td>\n",
       "      <td>1986.0;;;;;;;</td>\n",
       "    </tr>\n",
       "    <tr>\n",
       "      <th>7</th>\n",
       "      <td>2017-01-01 00:14:57</td>\n",
       "      <td>2017-01-01 00:26:22</td>\n",
       "      <td>685</td>\n",
       "      <td>Daley Center Plaza</td>\n",
       "      <td>Canal St &amp; Monroe St (*)</td>\n",
       "      <td>Customer</td>\n",
       "      <td>NaN</td>\n",
       "      <td>;;;;;;;</td>\n",
       "    </tr>\n",
       "    <tr>\n",
       "      <th>8</th>\n",
       "      <td>2017-01-01 00:15:03</td>\n",
       "      <td>2017-01-01 00:26:28</td>\n",
       "      <td>685</td>\n",
       "      <td>Daley Center Plaza</td>\n",
       "      <td>Canal St &amp; Monroe St (*)</td>\n",
       "      <td>Customer</td>\n",
       "      <td>NaN</td>\n",
       "      <td>;;;;;;;</td>\n",
       "    </tr>\n",
       "    <tr>\n",
       "      <th>9</th>\n",
       "      <td>2017-01-01 00:17:01</td>\n",
       "      <td>2017-01-01 00:29:49</td>\n",
       "      <td>768</td>\n",
       "      <td>Dayton St &amp; North Ave</td>\n",
       "      <td>Ogden Ave &amp; Chicago Ave</td>\n",
       "      <td>Customer</td>\n",
       "      <td>NaN</td>\n",
       "      <td>;;;;;;;</td>\n",
       "    </tr>\n",
       "    <tr>\n",
       "      <th>10</th>\n",
       "      <td>2017-01-01 00:17:13</td>\n",
       "      <td>2017-01-01 11:03:34</td>\n",
       "      <td>38781</td>\n",
       "      <td>Wilton Ave &amp; Diversey Pkwy</td>\n",
       "      <td>Halsted St &amp; Wrightwood Ave</td>\n",
       "      <td>Subscriber</td>\n",
       "      <td>Female</td>\n",
       "      <td>1988.0;;;;;;;</td>\n",
       "    </tr>\n",
       "    <tr>\n",
       "      <th>11</th>\n",
       "      <td>2017-01-01 00:18:28</td>\n",
       "      <td>2017-01-01 00:31:05</td>\n",
       "      <td>757</td>\n",
       "      <td>Canal St &amp; Madison St</td>\n",
       "      <td>LaSalle St &amp; Illinois St</td>\n",
       "      <td>Customer</td>\n",
       "      <td>NaN</td>\n",
       "      <td>;;;;;;;</td>\n",
       "    </tr>\n",
       "    <tr>\n",
       "      <th>12</th>\n",
       "      <td>2017-01-01 00:18:50</td>\n",
       "      <td>2017-01-01 00:21:47</td>\n",
       "      <td>177</td>\n",
       "      <td>Theater on the Lake</td>\n",
       "      <td>Lakeview Ave &amp; Fullerton Pkwy</td>\n",
       "      <td>Subscriber</td>\n",
       "      <td>Male</td>\n",
       "      <td>1991.0;;;;;;;</td>\n",
       "    </tr>\n",
       "    <tr>\n",
       "      <th>13</th>\n",
       "      <td>2017-01-01 00:23:41</td>\n",
       "      <td>2017-01-01 00:29:13</td>\n",
       "      <td>332</td>\n",
       "      <td>Halsted St &amp; Maxwell St</td>\n",
       "      <td>Halsted St &amp; 18th St</td>\n",
       "      <td>Subscriber</td>\n",
       "      <td>Male</td>\n",
       "      <td>1984.0;;;;;;;</td>\n",
       "    </tr>\n",
       "    <tr>\n",
       "      <th>14</th>\n",
       "      <td>2017-01-01 00:25:47</td>\n",
       "      <td>2017-01-01 00:39:53</td>\n",
       "      <td>846</td>\n",
       "      <td>Ravenswood Ave &amp; Lawrence Ave</td>\n",
       "      <td>Clarendon Ave &amp; Gordon Ter</td>\n",
       "      <td>Subscriber</td>\n",
       "      <td>Female</td>\n",
       "      <td>1987.0;;;;;;;</td>\n",
       "    </tr>\n",
       "    <tr>\n",
       "      <th>15</th>\n",
       "      <td>2017-01-01 00:25:47</td>\n",
       "      <td>2017-01-01 00:43:23</td>\n",
       "      <td>1056</td>\n",
       "      <td>Clark St &amp; Congress Pkwy</td>\n",
       "      <td>Wolcott Ave &amp; Polk St</td>\n",
       "      <td>Subscriber</td>\n",
       "      <td>Male</td>\n",
       "      <td>1984.0;;;;;;;</td>\n",
       "    </tr>\n",
       "    <tr>\n",
       "      <th>16</th>\n",
       "      <td>2017-01-01 00:26:21</td>\n",
       "      <td>2017-01-01 00:39:40</td>\n",
       "      <td>799</td>\n",
       "      <td>Ravenswood Ave &amp; Lawrence Ave</td>\n",
       "      <td>Clarendon Ave &amp; Gordon Ter</td>\n",
       "      <td>Subscriber</td>\n",
       "      <td>Male</td>\n",
       "      <td>1987.0;;;;;;;</td>\n",
       "    </tr>\n",
       "    <tr>\n",
       "      <th>17</th>\n",
       "      <td>2017-01-01 00:27:21</td>\n",
       "      <td>2017-01-01 00:42:59</td>\n",
       "      <td>938</td>\n",
       "      <td>Millennium Park</td>\n",
       "      <td>Michigan Ave &amp; 18th St</td>\n",
       "      <td>Subscriber</td>\n",
       "      <td>Male</td>\n",
       "      <td>1991.0;;;;;;;</td>\n",
       "    </tr>\n",
       "    <tr>\n",
       "      <th>18</th>\n",
       "      <td>2017-01-01 00:27:28</td>\n",
       "      <td>2017-01-01 00:42:44</td>\n",
       "      <td>916</td>\n",
       "      <td>Millennium Park</td>\n",
       "      <td>Michigan Ave &amp; 18th St</td>\n",
       "      <td>Subscriber</td>\n",
       "      <td>Female</td>\n",
       "      <td>1990.0;;;;;;;</td>\n",
       "    </tr>\n",
       "    <tr>\n",
       "      <th>19</th>\n",
       "      <td>2017-01-01 00:27:45</td>\n",
       "      <td>2017-01-01 00:31:13</td>\n",
       "      <td>208</td>\n",
       "      <td>Damen Ave &amp; Chicago Ave</td>\n",
       "      <td>Damen Ave &amp; Division St</td>\n",
       "      <td>Subscriber</td>\n",
       "      <td>Male</td>\n",
       "      <td>1982.0;;;;;;;</td>\n",
       "    </tr>\n",
       "  </tbody>\n",
       "</table>\n",
       "</div>"
      ],
      "text/plain": [
       "             Start Time             End Time  Trip Duration  \\\n",
       "0   2017-01-01 00:00:36  2017-01-01 00:06:32            356   \n",
       "1   2017-01-01 00:02:54  2017-01-01 00:08:21            327   \n",
       "2   2017-01-01 00:06:06  2017-01-01 00:18:31            745   \n",
       "3   2017-01-01 00:07:28  2017-01-01 00:12:51            323   \n",
       "4   2017-01-01 00:07:57  2017-01-01 00:20:53            776   \n",
       "5   2017-01-01 00:10:44  2017-01-01 00:21:27            643   \n",
       "6   2017-01-01 00:11:34  2017-01-01 00:23:47            733   \n",
       "7   2017-01-01 00:14:57  2017-01-01 00:26:22            685   \n",
       "8   2017-01-01 00:15:03  2017-01-01 00:26:28            685   \n",
       "9   2017-01-01 00:17:01  2017-01-01 00:29:49            768   \n",
       "10  2017-01-01 00:17:13  2017-01-01 11:03:34          38781   \n",
       "11  2017-01-01 00:18:28  2017-01-01 00:31:05            757   \n",
       "12  2017-01-01 00:18:50  2017-01-01 00:21:47            177   \n",
       "13  2017-01-01 00:23:41  2017-01-01 00:29:13            332   \n",
       "14  2017-01-01 00:25:47  2017-01-01 00:39:53            846   \n",
       "15  2017-01-01 00:25:47  2017-01-01 00:43:23           1056   \n",
       "16  2017-01-01 00:26:21  2017-01-01 00:39:40            799   \n",
       "17  2017-01-01 00:27:21  2017-01-01 00:42:59            938   \n",
       "18  2017-01-01 00:27:28  2017-01-01 00:42:44            916   \n",
       "19  2017-01-01 00:27:45  2017-01-01 00:31:13            208   \n",
       "\n",
       "                           Start Station                    End Station  \\\n",
       "0                   Canal St & Taylor St       Canal St & Monroe St (*)   \n",
       "1             Larrabee St & Menomonee St   Sheffield Ave & Kingsbury St   \n",
       "2   Orleans St & Chestnut St (NEXT Apts)     Ashland Ave & Blackhawk St   \n",
       "3                Franklin St & Monroe St         Clinton St & Tilden St   \n",
       "4                   Broadway & Barry Ave        Sedgwick St & North Ave   \n",
       "5                   State St & Kinzie St             Wells St & Polk St   \n",
       "6                 Wabash Ave & Wacker Pl         Clinton St & Tilden St   \n",
       "7                     Daley Center Plaza       Canal St & Monroe St (*)   \n",
       "8                     Daley Center Plaza       Canal St & Monroe St (*)   \n",
       "9                  Dayton St & North Ave        Ogden Ave & Chicago Ave   \n",
       "10            Wilton Ave & Diversey Pkwy    Halsted St & Wrightwood Ave   \n",
       "11                 Canal St & Madison St       LaSalle St & Illinois St   \n",
       "12                   Theater on the Lake  Lakeview Ave & Fullerton Pkwy   \n",
       "13               Halsted St & Maxwell St           Halsted St & 18th St   \n",
       "14         Ravenswood Ave & Lawrence Ave     Clarendon Ave & Gordon Ter   \n",
       "15              Clark St & Congress Pkwy          Wolcott Ave & Polk St   \n",
       "16         Ravenswood Ave & Lawrence Ave     Clarendon Ave & Gordon Ter   \n",
       "17                       Millennium Park         Michigan Ave & 18th St   \n",
       "18                       Millennium Park         Michigan Ave & 18th St   \n",
       "19               Damen Ave & Chicago Ave        Damen Ave & Division St   \n",
       "\n",
       "     User Type  Gender Birth Year;;;;;;;   \n",
       "0     Customer     NaN            ;;;;;;;  \n",
       "1   Subscriber    Male      1984.0;;;;;;;  \n",
       "2   Subscriber    Male      1985.0;;;;;;;  \n",
       "3   Subscriber    Male      1990.0;;;;;;;  \n",
       "4   Subscriber    Male      1990.0;;;;;;;  \n",
       "5   Subscriber    Male      1970.0;;;;;;;  \n",
       "6   Subscriber    Male      1986.0;;;;;;;  \n",
       "7     Customer     NaN            ;;;;;;;  \n",
       "8     Customer     NaN            ;;;;;;;  \n",
       "9     Customer     NaN            ;;;;;;;  \n",
       "10  Subscriber  Female      1988.0;;;;;;;  \n",
       "11    Customer     NaN            ;;;;;;;  \n",
       "12  Subscriber    Male      1991.0;;;;;;;  \n",
       "13  Subscriber    Male      1984.0;;;;;;;  \n",
       "14  Subscriber  Female      1987.0;;;;;;;  \n",
       "15  Subscriber    Male      1984.0;;;;;;;  \n",
       "16  Subscriber    Male      1987.0;;;;;;;  \n",
       "17  Subscriber    Male      1991.0;;;;;;;  \n",
       "18  Subscriber  Female      1990.0;;;;;;;  \n",
       "19  Subscriber    Male      1982.0;;;;;;;  "
      ]
     },
     "execution_count": 6,
     "metadata": {},
     "output_type": "execute_result"
    }
   ],
   "source": [
    "df.head(20)"
   ]
  },
  {
   "cell_type": "markdown",
   "metadata": {},
   "source": [
    "# Tarefa 2\n",
    "### Imprima o gênero das primeiras 20 linhas"
   ]
  },
  {
   "cell_type": "code",
   "execution_count": 7,
   "metadata": {},
   "outputs": [
    {
     "data": {
      "text/plain": [
       "0        NaN\n",
       "1       Male\n",
       "2       Male\n",
       "3       Male\n",
       "4       Male\n",
       "5       Male\n",
       "6       Male\n",
       "7        NaN\n",
       "8        NaN\n",
       "9        NaN\n",
       "10    Female\n",
       "11       NaN\n",
       "12      Male\n",
       "13      Male\n",
       "14    Female\n",
       "15      Male\n",
       "16      Male\n",
       "17      Male\n",
       "18    Female\n",
       "19      Male\n",
       "Name: Gender, dtype: object"
      ]
     },
     "execution_count": 7,
     "metadata": {},
     "output_type": "execute_result"
    }
   ],
   "source": [
    "df['Gender'][:20]"
   ]
  },
  {
   "cell_type": "markdown",
   "metadata": {},
   "source": [
    "# Tarefa 3\n",
    "### Crie uma função para adicionar as colunas(features) de uma lista em outra lista, na mesma ordem"
   ]
  },
  {
   "cell_type": "code",
   "execution_count": 8,
   "metadata": {},
   "outputs": [
    {
     "name": "stdout",
     "output_type": "stream",
     "text": [
      "TAREFA 3: Imprimindo a lista de gêneros das primeiras 20 amostras\n",
      "0        NaN\n",
      "1       Male\n",
      "2       Male\n",
      "3       Male\n",
      "4       Male\n",
      "5       Male\n",
      "6       Male\n",
      "7        NaN\n",
      "8        NaN\n",
      "9        NaN\n",
      "10    Female\n",
      "11       NaN\n",
      "12      Male\n",
      "13      Male\n",
      "14    Female\n",
      "15      Male\n",
      "16      Male\n",
      "17      Male\n",
      "18    Female\n",
      "19      Male\n",
      "Name: Gender, dtype: object\n"
     ]
    }
   ],
   "source": [
    "def column_to_list(dataframe, feature):\n",
    "    return dataframe[feature]\n",
    "\n",
    "print('TAREFA 3: Imprimindo a lista de gêneros das primeiras 20 amostras')\n",
    "print(column_to_list(df,'Gender')[:20])\n",
    "\n",
    "# ------------ NÃO MUDE NENHUM CÓDIGO AQUI ------------\n",
    "# assert type(column_to_list(df, 'Gender')) is list, \"TAREFA 3: Tipo incorreto retornado. Deveria ser uma lista.\"\n",
    "# assert len(column_to_list(df, 'Gender')) == 1551505, \"TAREFA 3: Tamanho incorreto retornado.\" #Este teste está incorreto, a quantidade total de linhas é 1048576 e ao remover o cabeçalho na tarefa 1 cai para 1048575\n",
    "# assert column_to_list(df, 'Gender')[0] == \"\" and column_to_list(df, -2)[1] == \"Male\", \"TAREFA 3: A lista não coincide.\"\n",
    "# -----------------------------------------------------"
   ]
  },
  {
   "cell_type": "markdown",
   "metadata": {},
   "source": [
    "# Tarefa 4\n",
    "### Conte cada gênero. Você não deveria usar uma função para isso."
   ]
  },
  {
   "cell_type": "code",
   "execution_count": 9,
   "metadata": {},
   "outputs": [
    {
     "name": "stdout",
     "output_type": "stream",
     "text": [
      "Male: 665437\n",
      "Female: 198247\n"
     ]
    }
   ],
   "source": [
    "male   = df['Gender'].value_counts()['Male']\n",
    "female = df['Gender'].value_counts()['Female']\n",
    "\n",
    "print(f\"Male: {male}\")\n",
    "print(f\"Female: {female}\")"
   ]
  },
  {
   "cell_type": "markdown",
   "metadata": {},
   "source": [
    "# Tarefa 5\n",
    "### Crie uma função para contar os gêneros. Retorne uma lista.\n",
    "### Isso deveria retornar uma lista com [count_male, count_female] (exemplo: [10, 15] significa 10 Masculinos, 15 Femininos)"
   ]
  },
  {
   "cell_type": "code",
   "execution_count": 10,
   "metadata": {},
   "outputs": [
    {
     "data": {
      "text/plain": [
       "Male      665437\n",
       "Female    198247\n",
       "Name: Gender, dtype: int64"
      ]
     },
     "execution_count": 10,
     "metadata": {},
     "output_type": "execute_result"
    }
   ],
   "source": [
    "def count_gender(dataframe):\n",
    "    return dataframe['Gender'].value_counts()\n",
    "\n",
    "count_gender(df)"
   ]
  },
  {
   "cell_type": "markdown",
   "metadata": {},
   "source": [
    "# Tarefa 6\n",
    "### Crie uma função que pegue o gênero mais popular, e retorne este gênero como uma string.\n",
    "### Esperamos ver \"Male\", \"Female\", ou \"Equal\" como resposta."
   ]
  },
  {
   "cell_type": "code",
   "execution_count": 11,
   "metadata": {},
   "outputs": [
    {
     "data": {
      "text/plain": [
       "'Male'"
      ]
     },
     "execution_count": 11,
     "metadata": {},
     "output_type": "execute_result"
    }
   ],
   "source": [
    "def most_popular_gender(dataframe):\n",
    "    most_popular = dataframe['Gender'].mode()\n",
    "\n",
    "    if most_popular.size == 1:\n",
    "        return most_popular[0]\n",
    "    else: \n",
    "        return 'Equals'\n",
    "\n",
    "most_popular_gender(df)"
   ]
  },
  {
   "cell_type": "markdown",
   "metadata": {},
   "source": [
    "# Tarefa 7\n",
    "### Crie um gráfico similar para user_types. Tenha certeza que a legenda está correta."
   ]
  },
  {
   "cell_type": "code",
   "execution_count": 12,
   "metadata": {},
   "outputs": [
    {
     "data": {
      "text/plain": [
       "Text(0, 0.5, 'Quantity')"
      ]
     },
     "execution_count": 12,
     "metadata": {},
     "output_type": "execute_result"
    },
    {
     "data": {
      "image/png": "[encoded data removed]",
      "text/plain": [
       "<Figure size 432x288 with 1 Axes>"
      ]
     },
     "metadata": {
      "needs_background": "light"
     },
     "output_type": "display_data"
    }
   ],
   "source": [
    "df['Gender'].value_counts().plot(kind=\"bar\", title=\"Quantity by gender\")\n",
    "plt.xticks(rotation=360, horizontalalignment=\"center\")\n",
    "plt.xlabel(\"Gender\")\n",
    "plt.ylabel(\"Quantity\")"
   ]
  },
  {
   "cell_type": "code",
   "execution_count": 13,
   "metadata": {},
   "outputs": [
    {
     "data": {
      "text/plain": [
       "Text(0, 0.5, 'Quantity')"
      ]
     },
     "execution_count": 13,
     "metadata": {},
     "output_type": "execute_result"
    },
    {
     "data": {
      "image/png": "[encoded data removed]",
      "text/plain": [
       "<Figure size 432x288 with 1 Axes>"
      ]
     },
     "metadata": {
      "needs_background": "light"
     },
     "output_type": "display_data"
    }
   ],
   "source": [
    "df['User Type'].value_counts().plot(kind=\"bar\", title=\"Quantity by user type\")\n",
    "plt.xticks(rotation=360, horizontalalignment=\"center\")\n",
    "plt.xlabel(\"User Type\")\n",
    "plt.ylabel(\"Quantity\")"
   ]
  },
  {
   "cell_type": "markdown",
   "metadata": {},
   "source": [
    "# Tarefa 8\n",
    "### Responda a seguinte questão, por que a condição a seguir é Falsa?\n",
    "~~~python\n",
    "print(\"male + female == len(data_list):\", male + female == len(data_list))\n",
    "~~~"
   ]
  },
  {
   "cell_type": "code",
   "execution_count": 14,
   "metadata": {},
   "outputs": [
    {
     "name": "stdout",
     "output_type": "stream",
     "text": [
      "A condição é falsa porque na função count_gender o algoritimo considera apenas Female e Male na contagem e o dataset do desafio contém amostras sem a informação gênero (string vazia).\n"
     ]
    }
   ],
   "source": [
    "print('A condição é falsa porque na função count_gender o algoritimo considera apenas Female e Male na contagem e o dataset do desafio contém amostras sem a informação gênero (string vazia).')"
   ]
  },
  {
   "cell_type": "markdown",
   "metadata": {},
   "source": [
    "# Tarefa 9\n",
    "### Ache a duração de viagem Mínima, Máxima, Média, e Mediana.\n",
    "### Você não deve usar funções prontas para isso, como max() e min()."
   ]
  },
  {
   "cell_type": "code",
   "execution_count": 15,
   "metadata": {},
   "outputs": [
    {
     "name": "stdout",
     "output_type": "stream",
     "text": [
      "min_trip:  60\n",
      "max_trip:  86338\n",
      "mean_trip:  884.790509977827\n",
      "median_trip:  624.0\n"
     ]
    }
   ],
   "source": [
    "trip_duration = df['Trip Duration']\n",
    "min_trip = trip_duration.min()\n",
    "max_trip = trip_duration.max()\n",
    "mean_trip = trip_duration.mean()\n",
    "median_trip = trip_duration.median()\n",
    "\n",
    "print('min_trip: ',min_trip)\n",
    "print('max_trip: ',max_trip)\n",
    "print('mean_trip: ',mean_trip)\n",
    "print('median_trip: ', median_trip)"
   ]
  },
  {
   "cell_type": "markdown",
   "metadata": {},
   "source": [
    "# Tarefa 10\n",
    "### Verifique quantos tipos de start_stations nós temos, usando set()"
   ]
  },
  {
   "cell_type": "code",
   "execution_count": 22,
   "metadata": {},
   "outputs": [
    {
     "data": {
      "text/plain": [
       "578"
      ]
     },
     "execution_count": 22,
     "metadata": {},
     "output_type": "execute_result"
    }
   ],
   "source": [
    "df['Start Station'].value_counts().size"
   ]
  },
  {
   "cell_type": "markdown",
   "metadata": {},
   "source": [
    "# Tarefa 11\n",
    "### Volte e tenha certeza que você documentou suas funções. Explique os parâmetros de entrada, a saída, e o que a função faz. Exemplo:\n",
    "~~~ \n",
    " def new_function(param1: int, param2: str) -> list:\n",
    "   \n",
    "   Função de exemplo com anotações.\n",
    "   Argumentos:\n",
    "       param1: O primeiro parâmetro.\n",
    "       param2: O segundo parâmetro.\n",
    "   Retorna:\n",
    "       Uma lista de valores x.\n",
    "~~~"
   ]
  },
  {
   "cell_type": "code",
   "execution_count": 17,
   "metadata": {},
   "outputs": [
    {
     "name": "stdout",
     "output_type": "stream",
     "text": [
      "=====================================================================================================================================\n",
      "\n",
      "def column_to_list(data: list, index: int) -> list:\n",
      "   \n",
      "   Argumentos:\n",
      "       data: Matriz representando um dataset.\n",
      "       Exemplo:\n",
      "       [\n",
      "            [\"NAME\",\"AGE\",\"STUDENT\"],\n",
      "            [\"LUCAS\",26,True],\n",
      "            [\"Fulano\",85, False]\n",
      "        ]\n",
      "       index: Indice da coluna que deseja retornar como lista.\n",
      "   Retorna:\n",
      "       Uma lista com os valores da coluna desejada na matriz.\n",
      "\n",
      "=====================================================================================================================================\n",
      "\n",
      "def count_gender(data_list: list) -> list:\n",
      "   \n",
      "   Argumentos:\n",
      "       data_list: Matriz representando um dataset.\n",
      "   Retorna:\n",
      "       Uma lista contendo o total de gênero \"Male\" no indice 0 e no indice 1 o total de gênero \"Female\".\n",
      "\n",
      "=====================================================================================================================================\n",
      "\n",
      "def count_user_type(data_list: list) -> str:\n",
      "   \n",
      "   Argumentos:\n",
      "       data_list: Matriz representando um dataset.\n",
      "   Retorna:\n",
      "       Uma lista contendo o total de tipo de usuário \"Subscriber\" no indice 0,\n",
      "       no indice 1 o total de tipo de usuário \"Customer\" e no indice 2 o total de tipo de usuário \"Dependent\".\n",
      "\n",
      "=====================================================================================================================================\n",
      "\n",
      "def most_popular_gender(data_list: list) -> list:\n",
      "   \n",
      "   Argumentos:\n",
      "       data_list: Array representando a coluna Gender do dataset.\n",
      "   Retorna:\n",
      "       O gênero mais popular em uma string, podendo ser Female, Male ou Equal\n",
      "\n",
      "=====================================================================================================================================\n",
      "\n",
      "def calc_max(trip_duration_list: list) -> int:\n",
      "   \n",
      "   Argumentos:\n",
      "       trip_duration_list: Array com tempo de duração das viagens.\n",
      "   Retorna:\n",
      "       O maior tempo de duração da coluna Trip Duration.\n",
      "\n",
      "=====================================================================================================================================\n",
      "\n",
      "def calc_min(trip_duration_list: list) -> int:\n",
      "   \n",
      "   Argumentos:\n",
      "       trip_duration_list: Array com tempo de duração das viagens.\n",
      "   Retorna:\n",
      "       O menor tempo de duração da coluna Trip Duration.\n",
      "\n",
      "=====================================================================================================================================\n",
      "\n",
      "def calc_mean(trip_duration_list: list) -> int:\n",
      "   \n",
      "   Argumentos:\n",
      "       trip_duration_list: Array com tempo de duração das viagens.\n",
      "   Retorna:\n",
      "       A média dos valores da coluna Trip Duration.\n",
      "\n",
      "=====================================================================================================================================\n",
      "\n",
      "def calc_median(trip_duration_list: list) -> int:\n",
      "   \n",
      "   Argumentos:\n",
      "       trip_duration_list: Array com tempo de duração das viagens.\n",
      "   Retorna:\n",
      "       A mediana dos valores da coluna Trip Duration.\n",
      "\n",
      "=====================================================================================================================================\n",
      "\n",
      "def count_items(column_list: list) -> tupla:\n",
      "   \n",
      "   Argumentos:\n",
      "       trip_duration_list: Array representando qualquer coluna do dataset.\n",
      "   Retorna:\n",
      "       Uma tupla de duas posições, na primeira contendo a quantidade de tipos de itens da coluna e na segunda o total de itens.\n",
      "\n",
      "=====================================================================================================================================\n"
     ]
    }
   ],
   "source": [
    "with open(\"task11.txt\", encoding=\"UTF-8\") as f:\n",
    "    print(f.read())"
   ]
  },
  {
   "cell_type": "markdown",
   "metadata": {},
   "source": [
    "# Tarefa 12\n",
    "### Crie uma função para contar tipos de usuários, sem definir os tipos\n",
    "### para que nós possamos usar essa função com outra categoria de dados."
   ]
  },
  {
   "cell_type": "code",
   "execution_count": 21,
   "metadata": {},
   "outputs": [
    {
     "name": "stdout",
     "output_type": "stream",
     "text": [
      "Total: 863684\n"
     ]
    },
    {
     "data": {
      "text/plain": [
       "Male      665437\n",
       "Female    198247\n",
       "Name: Gender, dtype: int64"
      ]
     },
     "execution_count": 21,
     "metadata": {},
     "output_type": "execute_result"
    }
   ],
   "source": [
    "def count_items(feature):\n",
    "    print(f\"Total: {df[feature].value_counts()['Male'] + df[feature].value_counts()['Female']}\")\n",
    "    return df[feature].value_counts()\n",
    "\n",
    "count_items('Gender')\n"
   ]
  }
 ],
 "metadata": {
  "kernelspec": {
   "display_name": "Python 3.9.5 64-bit",
   "language": "python",
   "name": "python3"
  },
  "language_info": {
   "codemirror_mode": {
    "name": "ipython",
    "version": 3
   },
   "file_extension": ".py",
   "mimetype": "text/x-python",
   "name": "python",
   "nbconvert_exporter": "python",
   "pygments_lexer": "ipython3",
   "version": "3.9.5"
  },
  "orig_nbformat": 4,
  "vscode": {
   "interpreter": {
    "hash": "3c3fdd1ba6fa6149e0a55b9d95e637df8fd62d3a04e8e673bb353b444f545e4d"
   }
  }
 },
 "nbformat": 4,
 "nbformat_minor": 2
}
